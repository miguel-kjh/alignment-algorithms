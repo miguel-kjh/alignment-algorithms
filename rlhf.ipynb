{
 "cells": [
  {
   "cell_type": "code",
   "execution_count": 1,
   "metadata": {},
   "outputs": [],
   "source": [
    "%load_ext autoreload\n",
    "%autoreload 2"
   ]
  },
  {
   "cell_type": "code",
   "execution_count": 2,
   "metadata": {},
   "outputs": [
    {
     "name": "stdout",
     "output_type": "stream",
     "text": [
      "Requirement already satisfied: transformers in c:\\users\\43294881\\appdata\\local\\programs\\python\\python311\\lib\\site-packages (4.34.1)\n",
      "Requirement already satisfied: trl in c:\\users\\43294881\\appdata\\local\\programs\\python\\python311\\lib\\site-packages (0.8.1)\n",
      "Requirement already satisfied: wandb in c:\\users\\43294881\\appdata\\local\\programs\\python\\python311\\lib\\site-packages (0.16.3)\n",
      "Requirement already satisfied: filelock in c:\\users\\43294881\\appdata\\local\\programs\\python\\python311\\lib\\site-packages (from transformers) (3.9.0)\n",
      "Requirement already satisfied: huggingface-hub<1.0,>=0.16.4 in c:\\users\\43294881\\appdata\\local\\programs\\python\\python311\\lib\\site-packages (from transformers) (0.17.3)\n",
      "Requirement already satisfied: numpy>=1.17 in c:\\users\\43294881\\appdata\\local\\programs\\python\\python311\\lib\\site-packages (from transformers) (1.24.1)\n",
      "Requirement already satisfied: packaging>=20.0 in c:\\users\\43294881\\appdata\\local\\programs\\python\\python311\\lib\\site-packages (from transformers) (23.2)\n",
      "Requirement already satisfied: pyyaml>=5.1 in c:\\users\\43294881\\appdata\\local\\programs\\python\\python311\\lib\\site-packages (from transformers) (6.0.1)\n",
      "Requirement already satisfied: regex!=2019.12.17 in c:\\users\\43294881\\appdata\\local\\programs\\python\\python311\\lib\\site-packages (from transformers) (2023.10.3)\n",
      "Requirement already satisfied: requests in c:\\users\\43294881\\appdata\\local\\programs\\python\\python311\\lib\\site-packages (from transformers) (2.28.1)\n",
      "Requirement already satisfied: tokenizers<0.15,>=0.14 in c:\\users\\43294881\\appdata\\local\\programs\\python\\python311\\lib\\site-packages (from transformers) (0.14.1)\n",
      "Requirement already satisfied: safetensors>=0.3.1 in c:\\users\\43294881\\appdata\\local\\programs\\python\\python311\\lib\\site-packages (from transformers) (0.4.1)\n",
      "Requirement already satisfied: tqdm>=4.27 in c:\\users\\43294881\\appdata\\local\\programs\\python\\python311\\lib\\site-packages (from transformers) (4.66.0)\n",
      "Requirement already satisfied: torch>=1.4.0 in c:\\users\\43294881\\appdata\\local\\programs\\python\\python311\\lib\\site-packages (from trl) (2.1.2+cu118)\n",
      "Requirement already satisfied: accelerate in c:\\users\\43294881\\appdata\\local\\programs\\python\\python311\\lib\\site-packages (from trl) (0.26.1)\n",
      "Requirement already satisfied: datasets in c:\\users\\43294881\\appdata\\local\\programs\\python\\python311\\lib\\site-packages (from trl) (2.14.6)\n",
      "Requirement already satisfied: tyro>=0.5.11 in c:\\users\\43294881\\appdata\\local\\programs\\python\\python311\\lib\\site-packages (from trl) (0.8.2)\n",
      "Requirement already satisfied: Click!=8.0.0,>=7.1 in c:\\users\\43294881\\appdata\\local\\programs\\python\\python311\\lib\\site-packages (from wandb) (8.1.7)\n",
      "Requirement already satisfied: GitPython!=3.1.29,>=1.0.0 in c:\\users\\43294881\\appdata\\local\\programs\\python\\python311\\lib\\site-packages (from wandb) (3.1.41)\n",
      "Requirement already satisfied: psutil>=5.0.0 in c:\\users\\43294881\\appdata\\local\\programs\\python\\python311\\lib\\site-packages (from wandb) (5.9.7)\n",
      "Requirement already satisfied: sentry-sdk>=1.0.0 in c:\\users\\43294881\\appdata\\local\\programs\\python\\python311\\lib\\site-packages (from wandb) (1.39.2)\n",
      "Requirement already satisfied: docker-pycreds>=0.4.0 in c:\\users\\43294881\\appdata\\local\\programs\\python\\python311\\lib\\site-packages (from wandb) (0.4.0)\n",
      "Requirement already satisfied: setproctitle in c:\\users\\43294881\\appdata\\local\\programs\\python\\python311\\lib\\site-packages (from wandb) (1.3.3)\n",
      "Requirement already satisfied: setuptools in c:\\users\\43294881\\appdata\\local\\programs\\python\\python311\\lib\\site-packages (from wandb) (65.5.0)\n",
      "Requirement already satisfied: appdirs>=1.4.3 in c:\\users\\43294881\\appdata\\local\\programs\\python\\python311\\lib\\site-packages (from wandb) (1.4.4)\n",
      "Requirement already satisfied: protobuf!=4.21.0,<5,>=3.19.0 in c:\\users\\43294881\\appdata\\local\\programs\\python\\python311\\lib\\site-packages (from wandb) (4.25.2)\n",
      "Requirement already satisfied: colorama in c:\\users\\43294881\\appdata\\local\\programs\\python\\python311\\lib\\site-packages (from Click!=8.0.0,>=7.1->wandb) (0.4.6)\n",
      "Requirement already satisfied: six>=1.4.0 in c:\\users\\43294881\\appdata\\local\\programs\\python\\python311\\lib\\site-packages (from docker-pycreds>=0.4.0->wandb) (1.16.0)\n",
      "Requirement already satisfied: gitdb<5,>=4.0.1 in c:\\users\\43294881\\appdata\\local\\programs\\python\\python311\\lib\\site-packages (from GitPython!=3.1.29,>=1.0.0->wandb) (4.0.11)\n",
      "Requirement already satisfied: fsspec in c:\\users\\43294881\\appdata\\local\\programs\\python\\python311\\lib\\site-packages (from huggingface-hub<1.0,>=0.16.4->transformers) (2023.10.0)\n",
      "Requirement already satisfied: typing-extensions>=3.7.4.3 in c:\\users\\43294881\\appdata\\local\\programs\\python\\python311\\lib\\site-packages (from huggingface-hub<1.0,>=0.16.4->transformers) (4.11.0)\n",
      "Collecting charset-normalizer<3,>=2 (from requests->transformers)\n",
      "  Downloading charset_normalizer-2.1.1-py3-none-any.whl.metadata (11 kB)\n",
      "Requirement already satisfied: idna<4,>=2.5 in c:\\users\\43294881\\appdata\\local\\programs\\python\\python311\\lib\\site-packages (from requests->transformers) (3.4)\n",
      "Requirement already satisfied: urllib3<1.27,>=1.21.1 in c:\\users\\43294881\\appdata\\local\\programs\\python\\python311\\lib\\site-packages (from requests->transformers) (1.26.13)\n",
      "Requirement already satisfied: certifi>=2017.4.17 in c:\\users\\43294881\\appdata\\local\\programs\\python\\python311\\lib\\site-packages (from requests->transformers) (2022.12.7)\n",
      "Requirement already satisfied: sympy in c:\\users\\43294881\\appdata\\local\\programs\\python\\python311\\lib\\site-packages (from torch>=1.4.0->trl) (1.12)\n",
      "Requirement already satisfied: networkx in c:\\users\\43294881\\appdata\\local\\programs\\python\\python311\\lib\\site-packages (from torch>=1.4.0->trl) (3.0)\n",
      "Requirement already satisfied: jinja2 in c:\\users\\43294881\\appdata\\local\\programs\\python\\python311\\lib\\site-packages (from torch>=1.4.0->trl) (3.1.2)\n",
      "Requirement already satisfied: docstring-parser>=0.14.1 in c:\\users\\43294881\\appdata\\local\\programs\\python\\python311\\lib\\site-packages (from tyro>=0.5.11->trl) (0.16)\n",
      "Requirement already satisfied: rich>=11.1.0 in c:\\users\\43294881\\appdata\\local\\programs\\python\\python311\\lib\\site-packages (from tyro>=0.5.11->trl) (13.7.0)\n",
      "Requirement already satisfied: shtab>=1.5.6 in c:\\users\\43294881\\appdata\\local\\programs\\python\\python311\\lib\\site-packages (from tyro>=0.5.11->trl) (1.7.1)\n",
      "Requirement already satisfied: pyarrow>=8.0.0 in c:\\users\\43294881\\appdata\\local\\programs\\python\\python311\\lib\\site-packages (from datasets->trl) (14.0.2)\n",
      "Requirement already satisfied: dill<0.3.8,>=0.3.0 in c:\\users\\43294881\\appdata\\local\\programs\\python\\python311\\lib\\site-packages (from datasets->trl) (0.3.7)\n",
      "Requirement already satisfied: pandas in c:\\users\\43294881\\appdata\\local\\programs\\python\\python311\\lib\\site-packages (from datasets->trl) (2.1.1)\n",
      "Requirement already satisfied: xxhash in c:\\users\\43294881\\appdata\\local\\programs\\python\\python311\\lib\\site-packages (from datasets->trl) (3.4.1)\n",
      "Requirement already satisfied: multiprocess in c:\\users\\43294881\\appdata\\local\\programs\\python\\python311\\lib\\site-packages (from datasets->trl) (0.70.15)\n",
      "Requirement already satisfied: aiohttp in c:\\users\\43294881\\appdata\\local\\programs\\python\\python311\\lib\\site-packages (from datasets->trl) (3.9.1)\n",
      "Requirement already satisfied: attrs>=17.3.0 in c:\\users\\43294881\\appdata\\local\\programs\\python\\python311\\lib\\site-packages (from aiohttp->datasets->trl) (23.2.0)\n",
      "Requirement already satisfied: multidict<7.0,>=4.5 in c:\\users\\43294881\\appdata\\local\\programs\\python\\python311\\lib\\site-packages (from aiohttp->datasets->trl) (6.0.4)\n",
      "Requirement already satisfied: yarl<2.0,>=1.0 in c:\\users\\43294881\\appdata\\local\\programs\\python\\python311\\lib\\site-packages (from aiohttp->datasets->trl) (1.9.4)\n",
      "Requirement already satisfied: frozenlist>=1.1.1 in c:\\users\\43294881\\appdata\\local\\programs\\python\\python311\\lib\\site-packages (from aiohttp->datasets->trl) (1.4.1)\n",
      "Requirement already satisfied: aiosignal>=1.1.2 in c:\\users\\43294881\\appdata\\local\\programs\\python\\python311\\lib\\site-packages (from aiohttp->datasets->trl) (1.3.1)\n",
      "Requirement already satisfied: smmap<6,>=3.0.1 in c:\\users\\43294881\\appdata\\local\\programs\\python\\python311\\lib\\site-packages (from gitdb<5,>=4.0.1->GitPython!=3.1.29,>=1.0.0->wandb) (5.0.1)\n",
      "Requirement already satisfied: markdown-it-py>=2.2.0 in c:\\users\\43294881\\appdata\\local\\programs\\python\\python311\\lib\\site-packages (from rich>=11.1.0->tyro>=0.5.11->trl) (3.0.0)\n",
      "Requirement already satisfied: pygments<3.0.0,>=2.13.0 in c:\\users\\43294881\\appdata\\local\\programs\\python\\python311\\lib\\site-packages (from rich>=11.1.0->tyro>=0.5.11->trl) (2.17.2)\n",
      "Requirement already satisfied: MarkupSafe>=2.0 in c:\\users\\43294881\\appdata\\local\\programs\\python\\python311\\lib\\site-packages (from jinja2->torch>=1.4.0->trl) (2.1.3)\n",
      "Requirement already satisfied: python-dateutil>=2.8.2 in c:\\users\\43294881\\appdata\\local\\programs\\python\\python311\\lib\\site-packages (from pandas->datasets->trl) (2.8.2)\n",
      "Requirement already satisfied: pytz>=2020.1 in c:\\users\\43294881\\appdata\\local\\programs\\python\\python311\\lib\\site-packages (from pandas->datasets->trl) (2023.3.post1)\n",
      "Requirement already satisfied: tzdata>=2022.1 in c:\\users\\43294881\\appdata\\local\\programs\\python\\python311\\lib\\site-packages (from pandas->datasets->trl) (2023.4)\n",
      "Requirement already satisfied: mpmath>=0.19 in c:\\users\\43294881\\appdata\\local\\programs\\python\\python311\\lib\\site-packages (from sympy->torch>=1.4.0->trl) (1.3.0)\n",
      "Requirement already satisfied: mdurl~=0.1 in c:\\users\\43294881\\appdata\\local\\programs\\python\\python311\\lib\\site-packages (from markdown-it-py>=2.2.0->rich>=11.1.0->tyro>=0.5.11->trl) (0.1.2)\n",
      "Downloading charset_normalizer-2.1.1-py3-none-any.whl (39 kB)\n",
      "Installing collected packages: charset-normalizer\n",
      "  Attempting uninstall: charset-normalizer\n",
      "    Found existing installation: charset-normalizer 3.3.2\n",
      "    Uninstalling charset-normalizer-3.3.2:\n",
      "      Successfully uninstalled charset-normalizer-3.3.2\n",
      "Successfully installed charset-normalizer-2.1.1\n",
      "Note: you may need to restart the kernel to use updated packages.\n"
     ]
    },
    {
     "name": "stderr",
     "output_type": "stream",
     "text": [
      "ERROR: pip's dependency resolver does not currently take into account all the packages that are installed. This behaviour is the source of the following dependency conflicts.\n",
      "htmldate 1.8.1 requires charset-normalizer>=3.3.2; python_version >= \"3.7\", but you have charset-normalizer 2.1.1 which is incompatible.\n",
      "trafilatura 1.10.0 requires charset-normalizer>=3.2.0; python_version >= \"3.7\", but you have charset-normalizer 2.1.1 which is incompatible.\n"
     ]
    }
   ],
   "source": [
    "%pip install transformers trl wandb"
   ]
  },
  {
   "cell_type": "code",
   "execution_count": 3,
   "metadata": {},
   "outputs": [
    {
     "name": "stderr",
     "output_type": "stream",
     "text": [
      "c:\\Users\\43294881\\AppData\\Local\\Programs\\Python\\Python311\\Lib\\site-packages\\tqdm\\auto.py:21: TqdmWarning: IProgress not found. Please update jupyter and ipywidgets. See https://ipywidgets.readthedocs.io/en/stable/user_install.html\n",
      "  from .autonotebook import tqdm as notebook_tqdm\n"
     ]
    }
   ],
   "source": [
    "import torch\n",
    "from tqdm import tqdm\n",
    "import pandas as pd\n",
    "\n",
    "tqdm.pandas()\n",
    "\n",
    "from transformers import pipeline, AutoTokenizer\n",
    "from datasets import load_dataset\n",
    "\n",
    "from trl import PPOTrainer, PPOConfig, AutoModelForCausalLMWithValueHead\n",
    "from trl.core import LengthSampler"
   ]
  },
  {
   "cell_type": "code",
   "execution_count": 4,
   "metadata": {},
   "outputs": [],
   "source": [
    "config = PPOConfig(\n",
    "    model_name=\"lvwerra/gpt2-imdb\",\n",
    "    learning_rate=1.41e-5,\n",
    "    log_with=\"wandb\",\n",
    ")\n",
    "\n",
    "sent_kwargs = {\"return_all_scores\": True, \"function_to_apply\": \"none\", \"batch_size\": 16}"
   ]
  }
 ],
 "metadata": {
  "kernelspec": {
   "display_name": "Python 3",
   "language": "python",
   "name": "python3"
  },
  "language_info": {
   "codemirror_mode": {
    "name": "ipython",
    "version": 3
   },
   "file_extension": ".py",
   "mimetype": "text/x-python",
   "name": "python",
   "nbconvert_exporter": "python",
   "pygments_lexer": "ipython3",
   "version": "3.11.7"
  }
 },
 "nbformat": 4,
 "nbformat_minor": 2
}
